{
 "cells": [
  {
   "cell_type": "code",
   "execution_count": null,
   "id": "11e55008",
   "metadata": {},
   "outputs": [],
   "source": []
  },
  {
   "cell_type": "code",
   "execution_count": 19,
   "id": "1ad44ac3",
   "metadata": {},
   "outputs": [
    {
     "name": "stdout",
     "output_type": "stream",
     "text": [
      "ফাংশন থেকে ফেরত আসা চূড়ান্ত ডেটা:\n",
      "\n",
      "    নাম  বয়স   স্থিতি\n",
      "0  সীমা    25  সক্রিয়\n",
      "1  রাজু    30  সক্রিয়\n",
      "2  মিতা    22  সক্রিয়\n"
     ]
    }
   ],
   "source": [
    "import pandas as pd\n",
    "import logging\n",
    "\n",
    "# সহজভাবে বোঝার জন্য এখানে ডেটা তৈরি করা হয়েছে, কোনো ফাইল থেকে লোড করা হয়নি।\n",
    "raw_data = [\n",
    "    {\"নাম\": \"সীমা\", \"বয়স\": 25},\n",
    "    {\"নাম\": \"রাজু\", \"বয়স\": 30},\n",
    "    {\"নাম\": \"মিতা\", \"বয়স\": 22}\n",
    "]\n",
    "\n",
    "@staticmethod\n",
    "def process_data(hasan): # row = hasan \n",
    "    \"\"\"\n",
    "    এই ফাংশনটি ইনপুট হিসেবে একটি ডেটা লিস্ট নেয়, \n",
    "    তাকে ডেটাফ্রেমে রূপান্তর করে এবং একটি নতুন কলাম যোগ করে।\n",
    "    \"\"\"\n",
    "    logging.info(\"ফাংশনের ভিতরে ডেটা প্রক্রিয়াকরণ শুরু হয়েছে।\")\n",
    "\n",
    "    # লিস্টটিকে একটি pandas DataFrame-এ রূপান্তর করা হচ্ছে।\n",
    "    df = pd.DataFrame(hasan) # hasan = all data save\n",
    "\n",
    "    # DataFrame-এ একটি নতুন কলাম ('স্থিতি') যোগ করা হচ্ছে।\n",
    "    df['স্থিতি'] = 'সক্রিয়'\n",
    "    \n",
    "    logging.info(\"ডেটা প্রক্রিয়াকরণ সম্পন্ন হয়েছে।\")\n",
    "\n",
    "    # এই লাইনটিই হলো মূল জিনিস। \n",
    "    # এটি তৈরি করা DataFrame-কে ফাংশন থেকে 'ফেরত' পাঠায়।\n",
    "    return df\n",
    "\n",
    "# এখানে ফাংশনটি কল করা হচ্ছে এবং ফেরত আসা ডেটা একটি ভেরিয়েবলে জমা হচ্ছে।\n",
    "final_processed_data = process_data(raw_data)\n",
    "\n",
    "# এখানে আমরা দেখতে পাচ্ছি যে ডেটা সফলভাবে ভেরিয়েবলে জমা হয়েছে।\n",
    "print(\"ফাংশন থেকে ফেরত আসা চূড়ান্ত ডেটা:\\n\")\n",
    "print(final_processed_data)\n"
   ]
  },
  {
   "cell_type": "code",
   "execution_count": null,
   "id": "ba34c215",
   "metadata": {},
   "outputs": [],
   "source": []
  },
  {
   "cell_type": "code",
   "execution_count": 20,
   "id": "cd3dd3f3",
   "metadata": {},
   "outputs": [],
   "source": [
    "import pandas as pd\n",
    "import logging\n",
    "import os\n",
    "\n",
    "def load_data(file_path: str) -> pd.DataFrame:\n",
    "    \"\"\"Load data from a CSV file.\"\"\"\n",
    "    try:\n",
    "        # We are now using the correct relative path for a Jupyter Notebook\n",
    "        df = pd.read_csv(file_path)\n",
    "        df.fillna('', inplace=True)\n",
    "        logging.info('Data loaded and NaNs filled from %s', file_path)\n",
    "        return df\n",
    "    except FileNotFoundError:\n",
    "        logging.error('The file was not found at the specified path: %s', file_path)\n",
    "        logging.error(\"Please ensure the file path is correct relative to your notebook's location.\")\n",
    "        return pd.DataFrame()\n",
    "\n",
    "# Use the '..' to navigate up one directory from your notebook's location\n",
    "train_data = load_data('../data/interim/train_processed.csv')\n",
    "test_data = load_data('../data/interim/test_processed.csv')"
   ]
  },
  {
   "cell_type": "code",
   "execution_count": 22,
   "id": "5aeda59c",
   "metadata": {},
   "outputs": [
    {
     "name": "stdout",
     "output_type": "stream",
     "text": [
      "                                                review  sentiment\n",
      "0    two hand highly enjoyable aussie crime caper u...          1\n",
      "1    rap book movie based one difficult book ever r...          0\n",
      "2    wish show would come back television greatest ...          1\n",
      "3    movie entertainment imagine friend love spendi...          1\n",
      "4    yes movie hilarious acting top notch whole cas...          1\n",
      "..                                                 ...        ...\n",
      "370  st watched dir ewald andre dupont fairly lame ...          0\n",
      "371  know want escavate moon real geneve debated pr...          0\n",
      "372  sure version film saw entertaining br br know ...          1\n",
      "373  recap band five young american men left platoo...          0\n",
      "374  generally good movie ideal ending acting spect...          1\n",
      "\n",
      "[375 rows x 2 columns]\n"
     ]
    }
   ],
   "source": [
    "print(train_data)"
   ]
  },
  {
   "cell_type": "code",
   "execution_count": 5,
   "id": "aee64071",
   "metadata": {},
   "outputs": [
    {
     "name": "stdout",
     "output_type": "stream",
     "text": [
      "                                                review  sentiment\n",
      "0    two hand highly enjoyable aussie crime caper u...          1\n",
      "1    rap book movie based one difficult book ever r...          0\n",
      "2    wish show would come back television greatest ...          1\n",
      "3    movie entertainment imagine friend love spendi...          1\n",
      "4    yes movie hilarious acting top notch whole cas...          1\n",
      "..                                                 ...        ...\n",
      "370  st watched dir ewald andre dupont fairly lame ...          0\n",
      "371  know want escavate moon real geneve debated pr...          0\n",
      "372  sure version film saw entertaining br br know ...          1\n",
      "373  recap band five young american men left platoo...          0\n",
      "374  generally good movie ideal ending acting spect...          1\n",
      "\n",
      "[375 rows x 2 columns]\n",
      "____________________________________________________\n",
      "                                                review  sentiment\n",
      "0    sex ever farm animal tag line movie probably s...          0\n",
      "1    name frau main character german word woman kno...          0\n",
      "2    watch film horror heart mother also crack head...          1\n",
      "3    deliverance one best exploitation film come wo...          1\n",
      "4    first film little ambition nothing stick scree...          1\n",
      "..                                                 ...        ...\n",
      "120  word fail br br common br br done properly cou...          0\n",
      "121  never seen movie annoyed much movie stupid peo...          0\n",
      "122  reviewed video local magazine called greatest ...          1\n",
      "123  well much really say really good good job soft...          1\n",
      "124  movie action comedy heroic best finest actor g...          1\n",
      "\n",
      "[125 rows x 2 columns]\n"
     ]
    }
   ],
   "source": [
    "import pandas as pd\n",
    "\n",
    "\n",
    "@staticmethod\n",
    "def load_data(path_file : str) -> pd.DataFrame:\n",
    "    df = pd.read_csv(path_file)\n",
    "    df.fillna('', inplace=True)\n",
    "    return df\n",
    "\n",
    "\n",
    "train_data = load_data('../data/interim/train_processed.csv')\n",
    "print(train_data)\n",
    "print(\"____________________________________________________\")\n",
    "test_data = load_data('../data/interim/test_processed.csv')\n",
    "print(test_data)"
   ]
  },
  {
   "cell_type": "code",
   "execution_count": null,
   "id": "5a7cb1e2",
   "metadata": {},
   "outputs": [],
   "source": [
    "# @staticmethod\n",
    "# def apply_now(train_data : pd.DataFrame , test_data : pd.DataFram , max_features : int) -> tuple:\n",
    "#     try:\n",
    "#         X_train = train_data['review'].values\n",
    "#         y_test = train_data['sentiment'].values\n",
    "#         X_trin = test_data['review'].values\n",
    "#         y_test = test_data['sentiment'].values\n",
    "\n",
    "\n",
    "\n",
    "    "
   ]
  }
 ],
 "metadata": {
  "kernelspec": {
   "display_name": "atlas",
   "language": "python",
   "name": "python3"
  },
  "language_info": {
   "codemirror_mode": {
    "name": "ipython",
    "version": 3
   },
   "file_extension": ".py",
   "mimetype": "text/x-python",
   "name": "python",
   "nbconvert_exporter": "python",
   "pygments_lexer": "ipython3",
   "version": "3.10.18"
  }
 },
 "nbformat": 4,
 "nbformat_minor": 5
}
