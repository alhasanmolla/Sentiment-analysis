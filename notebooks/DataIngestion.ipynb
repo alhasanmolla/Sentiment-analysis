{
 "cells": [
  {
   "cell_type": "code",
   "execution_count": null,
   "metadata": {},
   "outputs": [],
   "source": [
    "# data ingestion\n",
    "import numpy as np\n",
    "import pandas as pd\n",
    "pd.set_option('future.no_silent_downcasting', True)\n",
    "\n",
    "import os\n",
    "from sklearn.model_selection import train_test_split\n",
    "import yaml\n",
    "import logging\n",
    "from src.logger import logging\n",
    "# from src.connections import s3_connection"
   ]
  },
  {
   "cell_type": "code",
   "execution_count": null,
   "metadata": {},
   "outputs": [],
   "source": [
    "\n",
    "def load_params(params_path: str) -> dict:\n",
    "    \"\"\"Load parameters from a YAML file.\"\"\"\n",
    "    try:\n",
    "        with open(params_path, 'r') as file:\n",
    "            params = yaml.safe_load(file)\n",
    "        logging.debug('Parameters retrieved from %s', params_path)\n",
    "        return params\n",
    "    except FileNotFoundError:\n",
    "        logging.error('File not found: %s', params_path)\n",
    "        raise\n",
    "    except yaml.YAMLError as e:\n",
    "        logging.error('YAML error: %s', e)\n",
    "        raise\n",
    "    except Exception as e:\n",
    "        logging.error('Unexpected error: %s', e)\n",
    "        raise\n"
   ]
  },
  {
   "cell_type": "code",
   "execution_count": 3,
   "metadata": {},
   "outputs": [],
   "source": [
    "yaml = load_params(params_path = \"A:\\end-to-end-data-scientist-project\\Sentiment-analysis\\params.yaml\")\n"
   ]
  },
  {
   "cell_type": "code",
   "execution_count": 4,
   "metadata": {},
   "outputs": [
    {
     "data": {
      "text/plain": [
       "{'data_ingestion': {'test_size': 0.25},\n",
       " 'feature_engineering': {'max_features': 50}}"
      ]
     },
     "execution_count": 4,
     "metadata": {},
     "output_type": "execute_result"
    }
   ],
   "source": [
    "yaml"
   ]
  },
  {
   "cell_type": "code",
   "execution_count": 6,
   "metadata": {},
   "outputs": [],
   "source": [
    "test_size = yaml['data_ingestion']['test_size']\n"
   ]
  },
  {
   "cell_type": "code",
   "execution_count": 7,
   "metadata": {},
   "outputs": [
    {
     "data": {
      "text/plain": [
       "0.25"
      ]
     },
     "execution_count": 7,
     "metadata": {},
     "output_type": "execute_result"
    }
   ],
   "source": [
    "test_size"
   ]
  },
  {
   "cell_type": "code",
   "execution_count": 10,
   "metadata": {},
   "outputs": [],
   "source": [
    "feature_engineering_size = yaml['feature_engineering']['max_features']\n"
   ]
  },
  {
   "cell_type": "code",
   "execution_count": 11,
   "metadata": {},
   "outputs": [
    {
     "data": {
      "text/plain": [
       "50"
      ]
     },
     "execution_count": 11,
     "metadata": {},
     "output_type": "execute_result"
    }
   ],
   "source": [
    "feature_engineering_size"
   ]
  },
  {
   "cell_type": "code",
   "execution_count": 12,
   "metadata": {},
   "outputs": [],
   "source": [
    "def load_data(data_url: str) -> pd.DataFrame:\n",
    "    \"\"\"Load data from a CSV file.\"\"\"\n",
    "    try:\n",
    "        df = pd.read_csv(data_url)\n",
    "        logging.info('Data loaded from %s', data_url)\n",
    "        return df\n",
    "    except pd.errors.ParserError as e:\n",
    "        logging.error('Failed to parse the CSV file: %s', e)\n",
    "        raise\n",
    "    except Exception as e:\n",
    "        logging.error('Unexpected error occurred while loading the data: %s', e)\n",
    "        raise\n"
   ]
  },
  {
   "cell_type": "code",
   "execution_count": 14,
   "metadata": {},
   "outputs": [
    {
     "name": "stdout",
     "output_type": "stream",
     "text": [
      "[ 2025-09-03 20:10:51,124 ] root - INFO - Data loaded from https://raw.githubusercontent.com/vikashishere/Datasets/refs/heads/main/data.csv\n"
     ]
    }
   ],
   "source": [
    "df = load_data(data_url='https://raw.githubusercontent.com/vikashishere/Datasets/refs/heads/main/data.csv')"
   ]
  },
  {
   "cell_type": "code",
   "execution_count": 18,
   "metadata": {},
   "outputs": [],
   "source": [
    "def preprocess_data(df: pd.DataFrame) -> pd.DataFrame:\n",
    "    \"\"\"Preprocess the data.\"\"\"\n",
    "    try:\n",
    "        # df.drop(columns=['tweet_id'], inplace=True)\n",
    "        logging.info(\"pre-processing...\")\n",
    "        final_df = df[df['sentiment'].isin(['positive', 'negative'])]\n",
    "        final_df['sentiment'] = final_df['sentiment'].replace({'positive': 1, 'negative': 0})\n",
    "        logging.info('Data preprocessing completed')\n",
    "        return final_df\n",
    "    except KeyError as e:\n",
    "        logging.error('Missing column in the dataframe: %s', e)\n",
    "        raise\n",
    "    except Exception as e:\n",
    "        logging.error('Unexpected error during preprocessing: %s', e)\n",
    "        raise"
   ]
  },
  {
   "cell_type": "code",
   "execution_count": 19,
   "metadata": {},
   "outputs": [],
   "source": [
    "def save_data(train_data: pd.DataFrame, test_data: pd.DataFrame, data_path: str) -> None:\n",
    "    \"\"\"Save the train and test datasets.\"\"\"\n",
    "    try:\n",
    "        raw_data_path = os.path.join(data_path, 'raw')\n",
    "        os.makedirs(raw_data_path, exist_ok=True)\n",
    "        train_data.to_csv(os.path.join(raw_data_path, \"train.csv\"), index=False)\n",
    "        test_data.to_csv(os.path.join(raw_data_path, \"test.csv\"), index=False)\n",
    "        logging.debug('Train and test data saved to %s', raw_data_path)\n",
    "    except Exception as e:\n",
    "        logging.error('Unexpected error occurred while saving the data: %s', e)\n",
    "        raise"
   ]
  },
  {
   "cell_type": "code",
   "execution_count": null,
   "metadata": {},
   "outputs": [],
   "source": [
    "def main():\n",
    "    try:\n",
    "        params = load_params(params_path='params.yaml')\n",
    "        test_size = params['data_ingestion']['test_size']\n",
    "        # test_size = 0.2\n",
    "        \n",
    "        df = load_data(data_url='https://raw.githubusercontent.com/vikashishere/Datasets/refs/heads/main/data.csv')\n",
    "        # s3 = s3_connection.s3_operations(\"bucket-name\", \"accesskey\", \"secretkey\")\n",
    "        # df = s3.fetch_file_from_s3(\"data.csv\")\n",
    "\n",
    "\n",
    "\n",
    "        final_df = preprocess_data(df)\n",
    "        train_data, test_data = train_test_split(final_df, test_size=test_size, random_state=42)\n",
    "        save_data(train_data, test_data, data_path='./data')\n",
    "    except Exception as e:\n",
    "        logging.error('Failed to complete the data ingestion process: %s', e)\n",
    "        print(f\"Error: {e}\")"
   ]
  },
  {
   "cell_type": "code",
   "execution_count": null,
   "metadata": {},
   "outputs": [],
   "source": [
    "if __name__ == '__main__':\n",
    "    main()"
   ]
  }
 ],
 "metadata": {
  "kernelspec": {
   "display_name": "atlas",
   "language": "python",
   "name": "python3"
  },
  "language_info": {
   "codemirror_mode": {
    "name": "ipython",
    "version": 3
   },
   "file_extension": ".py",
   "mimetype": "text/x-python",
   "name": "python",
   "nbconvert_exporter": "python",
   "pygments_lexer": "ipython3",
   "version": "3.10.18"
  }
 },
 "nbformat": 4,
 "nbformat_minor": 5
}
